{
 "cells": [
  {
   "cell_type": "code",
   "execution_count": null,
   "metadata": {},
   "outputs": [],
   "source": [
    "import requests\n",
    "import pandas as pd\n",
    "\n",
    "from bs4 import BeautifulSoup\n",
    "\n",
    "url = 'https://rate.bot.com.tw/xrt?Lang=zh-TW'\n",
    "\n"
   ]
  },
  {
   "cell_type": "code",
   "execution_count": null,
   "metadata": {},
   "outputs": [],
   "source": [
    "r = requests.get(url).text\n",
    "soup = BeautifulSoup(r,'lxml')\n",
    "currency = soup.find_all(\"div\",class_=\"visible-phone print_hide\")[0].text.strip().split(\"\\r\\n\")\n",
    "bought_cash_exchange_rate = soup.find_all('td',attrs={'data-table':'本行現金買入'})[0].text\n",
    "sold_cash_exchange_rate = soup.find_all('td',attrs={'data-table':'本行現金賣出'})[0].text\n",
    "bought_spot_exchange_rate = soup.find_all('td',attrs={'data-table':'本行即期買入'})[0].text\n",
    "sold_spot_exchange_rate = soup.find_all('td',attrs={'data-table':'本行即期賣出'})[0].text"
   ]
  },
  {
   "cell_type": "code",
   "execution_count": null,
   "metadata": {},
   "outputs": [],
   "source": [
    "len(soup.find_all(\"div\",class_=\"visible-phone print_hide\"))"
   ]
  },
  {
   "cell_type": "code",
   "execution_count": null,
   "metadata": {},
   "outputs": [],
   "source": [
    "exchange_df = pd.DataFrame()\n",
    "for num in range(len(soup.find_all(\"div\",class_=\"visible-phone print_hide\"))):\n",
    "\n",
    "    name = soup.find_all(\"div\",class_=\"visible-phone print_hide\")[num].text.strip().split(\"\\r\\n\")[0].split(\" \")[0]\n",
    "    currency = soup.find_all(\"div\",class_=\"visible-phone print_hide\")[num].text.strip().split(\"\\r\\n\")[0].split(\" \")[1][1:-1]\n",
    "    bought_cash_exchange_rate = soup.find_all('td',attrs={'data-table':'本行現金買入'})[num].text\n",
    "    sold_cash_exchange_rate = soup.find_all('td',attrs={'data-table':'本行現金賣出'})[num].text\n",
    "    bought_spot_exchange_rate = soup.find_all('td',attrs={'data-table':'本行即期買入'})[num].text\n",
    "    sold_spot_exchange_rate = soup.find_all('td',attrs={'data-table':'本行即期賣出'})[num].text\n",
    "\n",
    "    exchange_series = pd.Series({\"name\":name,\"currency\":currency,\"bought_cash_exchange_rate\":bought_cash_exchange_rate,\"sold_cash_exchange_rate\":sold_cash_exchange_rate,\"currencybought_spot_exchange_rate\":bought_spot_exchange_rate,\"sold_spot_exchange_rate\":sold_spot_exchange_rate,},name=num)\n",
    "    exchange_df = exchange_df.append(exchange_series)\n",
    "\n",
    "exchange_df = exchange_df.replace('-','NaN')"
   ]
  },
  {
   "cell_type": "code",
   "execution_count": null,
   "metadata": {},
   "outputs": [],
   "source": [
    "exchange_df"
   ]
  },
  {
   "cell_type": "code",
   "execution_count": null,
   "metadata": {},
   "outputs": [],
   "source": [
    "soup.find_all(\"div\",class_=\"visible-phone print_hide\")[0].text.strip().split(\"\\r\\n\")"
   ]
  },
  {
   "cell_type": "code",
   "execution_count": 19,
   "metadata": {},
   "outputs": [
    {
     "output_type": "execute_result",
     "data": {
      "text/plain": [
       "    name currency\n",
       "0     美金      USD\n",
       "1     港幣      HKD\n",
       "2     英鎊      GBP\n",
       "3     澳幣      AUD\n",
       "4   加拿大幣      CAD\n",
       "5   新加坡幣      SGD\n",
       "6   瑞士法郎      CHF\n",
       "7     日圓      JPY\n",
       "8    南非幣      ZAR\n",
       "9    瑞典幣      SEK\n",
       "10    紐元      NZD\n",
       "11    泰幣      THB\n",
       "12  菲國比索      PHP\n",
       "13   印尼幣      IDR\n",
       "14    歐元      EUR\n",
       "15    韓元      KRW\n",
       "16   越南盾      VND\n",
       "17   馬來幣      MYR\n",
       "18   人民幣      CNY"
      ],
      "text/html": "<div>\n<style scoped>\n    .dataframe tbody tr th:only-of-type {\n        vertical-align: middle;\n    }\n\n    .dataframe tbody tr th {\n        vertical-align: top;\n    }\n\n    .dataframe thead th {\n        text-align: right;\n    }\n</style>\n<table border=\"1\" class=\"dataframe\">\n  <thead>\n    <tr style=\"text-align: right;\">\n      <th></th>\n      <th>name</th>\n      <th>currency</th>\n    </tr>\n  </thead>\n  <tbody>\n    <tr>\n      <th>0</th>\n      <td>美金</td>\n      <td>USD</td>\n    </tr>\n    <tr>\n      <th>1</th>\n      <td>港幣</td>\n      <td>HKD</td>\n    </tr>\n    <tr>\n      <th>2</th>\n      <td>英鎊</td>\n      <td>GBP</td>\n    </tr>\n    <tr>\n      <th>3</th>\n      <td>澳幣</td>\n      <td>AUD</td>\n    </tr>\n    <tr>\n      <th>4</th>\n      <td>加拿大幣</td>\n      <td>CAD</td>\n    </tr>\n    <tr>\n      <th>5</th>\n      <td>新加坡幣</td>\n      <td>SGD</td>\n    </tr>\n    <tr>\n      <th>6</th>\n      <td>瑞士法郎</td>\n      <td>CHF</td>\n    </tr>\n    <tr>\n      <th>7</th>\n      <td>日圓</td>\n      <td>JPY</td>\n    </tr>\n    <tr>\n      <th>8</th>\n      <td>南非幣</td>\n      <td>ZAR</td>\n    </tr>\n    <tr>\n      <th>9</th>\n      <td>瑞典幣</td>\n      <td>SEK</td>\n    </tr>\n    <tr>\n      <th>10</th>\n      <td>紐元</td>\n      <td>NZD</td>\n    </tr>\n    <tr>\n      <th>11</th>\n      <td>泰幣</td>\n      <td>THB</td>\n    </tr>\n    <tr>\n      <th>12</th>\n      <td>菲國比索</td>\n      <td>PHP</td>\n    </tr>\n    <tr>\n      <th>13</th>\n      <td>印尼幣</td>\n      <td>IDR</td>\n    </tr>\n    <tr>\n      <th>14</th>\n      <td>歐元</td>\n      <td>EUR</td>\n    </tr>\n    <tr>\n      <th>15</th>\n      <td>韓元</td>\n      <td>KRW</td>\n    </tr>\n    <tr>\n      <th>16</th>\n      <td>越南盾</td>\n      <td>VND</td>\n    </tr>\n    <tr>\n      <th>17</th>\n      <td>馬來幣</td>\n      <td>MYR</td>\n    </tr>\n    <tr>\n      <th>18</th>\n      <td>人民幣</td>\n      <td>CNY</td>\n    </tr>\n  </tbody>\n</table>\n</div>"
     },
     "metadata": {},
     "execution_count": 19
    }
   ],
   "source": [
    "exchange_df[['name','currency']]"
   ]
  },
  {
   "cell_type": "code",
   "execution_count": null,
   "metadata": {},
   "outputs": [],
   "source": []
  },
  {
   "cell_type": "code",
   "execution_count": 1,
   "metadata": {},
   "outputs": [
    {
     "output_type": "execute_result",
     "data": {
      "text/plain": [
       "   bought_cash_exchange_rate currency currencybought_spot_exchange_rate  name  \\\n",
       "0                      28.11      USD                            28.435    美金   \n",
       "1                      28.11      HKD                            28.435    港幣   \n",
       "2                      3.522      GBP                             3.643    英鎊   \n",
       "3                      3.522      AUD                             3.643    澳幣   \n",
       "4                      36.69      CAD                            37.585  加拿大幣   \n",
       "5                      36.69      SGD                            37.585  新加坡幣   \n",
       "6                      20.48      CHF                            20.695  瑞士法郎   \n",
       "7                      20.48      JPY                            20.695    日圓   \n",
       "8                      21.33      ZAR                             21.66   南非幣   \n",
       "9                      21.33      SEK                             21.66   瑞典幣   \n",
       "10                     20.69      NZD                             21.16    紐元   \n",
       "11                     20.69      THB                             21.16    泰幣   \n",
       "12                     30.52      PHP                             31.13  菲國比索   \n",
       "13                     30.52      IDR                             31.13   印尼幣   \n",
       "14                    0.2651      EUR                            0.2721    歐元   \n",
       "15                    0.2651      KRW                            0.2721    韓元   \n",
       "16                       NaN      VND                             1.817   越南盾   \n",
       "17                       NaN      MYR                             1.817   馬來幣   \n",
       "18                      2.94      CNY                              3.27   人民幣   \n",
       "\n",
       "   sold_cash_exchange_rate sold_spot_exchange_rate  \n",
       "0                    28.78                  28.585  \n",
       "1                    28.78                  28.585  \n",
       "2                    3.726                   3.713  \n",
       "3                    3.726                   3.713  \n",
       "4                    38.81                  38.215  \n",
       "5                    38.81                  38.215  \n",
       "6                    21.26                   21.04  \n",
       "7                    21.26                   21.04  \n",
       "8                    22.24                   21.99  \n",
       "9                    22.24                   21.99  \n",
       "10                    21.6                   21.38  \n",
       "11                    21.6                   21.38  \n",
       "12                   31.72                   31.52  \n",
       "13                   31.72                   31.52  \n",
       "14                  0.2779                  0.2767  \n",
       "15                  0.2779                  0.2767  \n",
       "16                     NaN                   1.907  \n",
       "17                     NaN                   1.907  \n",
       "18                    3.46                    3.39  "
      ],
      "text/html": "<div>\n<style scoped>\n    .dataframe tbody tr th:only-of-type {\n        vertical-align: middle;\n    }\n\n    .dataframe tbody tr th {\n        vertical-align: top;\n    }\n\n    .dataframe thead th {\n        text-align: right;\n    }\n</style>\n<table border=\"1\" class=\"dataframe\">\n  <thead>\n    <tr style=\"text-align: right;\">\n      <th></th>\n      <th>bought_cash_exchange_rate</th>\n      <th>currency</th>\n      <th>currencybought_spot_exchange_rate</th>\n      <th>name</th>\n      <th>sold_cash_exchange_rate</th>\n      <th>sold_spot_exchange_rate</th>\n    </tr>\n  </thead>\n  <tbody>\n    <tr>\n      <th>0</th>\n      <td>28.11</td>\n      <td>USD</td>\n      <td>28.435</td>\n      <td>美金</td>\n      <td>28.78</td>\n      <td>28.585</td>\n    </tr>\n    <tr>\n      <th>1</th>\n      <td>28.11</td>\n      <td>HKD</td>\n      <td>28.435</td>\n      <td>港幣</td>\n      <td>28.78</td>\n      <td>28.585</td>\n    </tr>\n    <tr>\n      <th>2</th>\n      <td>3.522</td>\n      <td>GBP</td>\n      <td>3.643</td>\n      <td>英鎊</td>\n      <td>3.726</td>\n      <td>3.713</td>\n    </tr>\n    <tr>\n      <th>3</th>\n      <td>3.522</td>\n      <td>AUD</td>\n      <td>3.643</td>\n      <td>澳幣</td>\n      <td>3.726</td>\n      <td>3.713</td>\n    </tr>\n    <tr>\n      <th>4</th>\n      <td>36.69</td>\n      <td>CAD</td>\n      <td>37.585</td>\n      <td>加拿大幣</td>\n      <td>38.81</td>\n      <td>38.215</td>\n    </tr>\n    <tr>\n      <th>5</th>\n      <td>36.69</td>\n      <td>SGD</td>\n      <td>37.585</td>\n      <td>新加坡幣</td>\n      <td>38.81</td>\n      <td>38.215</td>\n    </tr>\n    <tr>\n      <th>6</th>\n      <td>20.48</td>\n      <td>CHF</td>\n      <td>20.695</td>\n      <td>瑞士法郎</td>\n      <td>21.26</td>\n      <td>21.04</td>\n    </tr>\n    <tr>\n      <th>7</th>\n      <td>20.48</td>\n      <td>JPY</td>\n      <td>20.695</td>\n      <td>日圓</td>\n      <td>21.26</td>\n      <td>21.04</td>\n    </tr>\n    <tr>\n      <th>8</th>\n      <td>21.33</td>\n      <td>ZAR</td>\n      <td>21.66</td>\n      <td>南非幣</td>\n      <td>22.24</td>\n      <td>21.99</td>\n    </tr>\n    <tr>\n      <th>9</th>\n      <td>21.33</td>\n      <td>SEK</td>\n      <td>21.66</td>\n      <td>瑞典幣</td>\n      <td>22.24</td>\n      <td>21.99</td>\n    </tr>\n    <tr>\n      <th>10</th>\n      <td>20.69</td>\n      <td>NZD</td>\n      <td>21.16</td>\n      <td>紐元</td>\n      <td>21.6</td>\n      <td>21.38</td>\n    </tr>\n    <tr>\n      <th>11</th>\n      <td>20.69</td>\n      <td>THB</td>\n      <td>21.16</td>\n      <td>泰幣</td>\n      <td>21.6</td>\n      <td>21.38</td>\n    </tr>\n    <tr>\n      <th>12</th>\n      <td>30.52</td>\n      <td>PHP</td>\n      <td>31.13</td>\n      <td>菲國比索</td>\n      <td>31.72</td>\n      <td>31.52</td>\n    </tr>\n    <tr>\n      <th>13</th>\n      <td>30.52</td>\n      <td>IDR</td>\n      <td>31.13</td>\n      <td>印尼幣</td>\n      <td>31.72</td>\n      <td>31.52</td>\n    </tr>\n    <tr>\n      <th>14</th>\n      <td>0.2651</td>\n      <td>EUR</td>\n      <td>0.2721</td>\n      <td>歐元</td>\n      <td>0.2779</td>\n      <td>0.2767</td>\n    </tr>\n    <tr>\n      <th>15</th>\n      <td>0.2651</td>\n      <td>KRW</td>\n      <td>0.2721</td>\n      <td>韓元</td>\n      <td>0.2779</td>\n      <td>0.2767</td>\n    </tr>\n    <tr>\n      <th>16</th>\n      <td>NaN</td>\n      <td>VND</td>\n      <td>1.817</td>\n      <td>越南盾</td>\n      <td>NaN</td>\n      <td>1.907</td>\n    </tr>\n    <tr>\n      <th>17</th>\n      <td>NaN</td>\n      <td>MYR</td>\n      <td>1.817</td>\n      <td>馬來幣</td>\n      <td>NaN</td>\n      <td>1.907</td>\n    </tr>\n    <tr>\n      <th>18</th>\n      <td>2.94</td>\n      <td>CNY</td>\n      <td>3.27</td>\n      <td>人民幣</td>\n      <td>3.46</td>\n      <td>3.39</td>\n    </tr>\n  </tbody>\n</table>\n</div>"
     },
     "metadata": {},
     "execution_count": 1
    }
   ],
   "source": [
    "import requests\n",
    "import pandas as pd\n",
    "\n",
    "from bs4 import BeautifulSoup\n",
    "\n",
    "url = 'https://rate.bot.com.tw/xrt?Lang=zh-TW'\n",
    "r = requests.get(url).text\n",
    "soup = BeautifulSoup(r,'lxml')\n",
    "\n",
    "\n",
    "exchange_df = pd.DataFrame()\n",
    "for num in range(len(soup.find_all(\"div\",class_=\"visible-phone print_hide\"))):\n",
    "\n",
    "    name = soup.find_all(\"div\",class_=\"visible-phone print_hide\")[num].text.strip().split(\"\\r\\n\")[0].split(\" \")[0]\n",
    "    currency = soup.find_all(\"div\",class_=\"visible-phone print_hide\")[num].text.strip().split(\"\\r\\n\")[0].split(\" \")[1][1:-1]\n",
    "    bought_cash_exchange_rate = soup.find_all('td',attrs={'data-table':'本行現金買入'})[num].text\n",
    "    sold_cash_exchange_rate = soup.find_all('td',attrs={'data-table':'本行現金賣出'})[num].text\n",
    "    bought_spot_exchange_rate = soup.find_all('td',attrs={'data-table':'本行即期買入'})[num].text\n",
    "    sold_spot_exchange_rate = soup.find_all('td',attrs={'data-table':'本行即期賣出'})[num].text\n",
    "\n",
    "    exchange_series = pd.Series({\"name\":name,\"currency\":currency,\"bought_cash_exchange_rate\":bought_cash_exchange_rate,\"sold_cash_exchange_rate\":sold_cash_exchange_rate,\"currencybought_spot_exchange_rate\":bought_spot_exchange_rate,\"sold_spot_exchange_rate\":sold_spot_exchange_rate,},name=num)\n",
    "    exchange_df = exchange_df.append(exchange_series)\n",
    "\n",
    "exchange_df = exchange_df.replace('-','NaN')\n",
    "\n",
    "exchange_df"
   ]
  }
 ],
 "metadata": {
  "kernelspec": {
   "display_name": "Python 3",
   "language": "python",
   "name": "python3"
  }
 },
 "nbformat": 4,
 "nbformat_minor": 2
}